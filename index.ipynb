{
 "cells": [
  {
   "cell_type": "markdown",
   "metadata": {},
   "source": [
    "# APIs - Cumulative Lab\n",
    "\n",
    "\n",
    "## Introduction \n",
    "\n",
    "We've seen how the Yelp API works and how to create basic visualizations using Folium. It's time to put those skills to work in order to create a working map! Taking things a step further, you'll also independently explore how to perform pagination in order to retrieve a full results set from the Yelp API.\n",
    "\n",
    "## Objectives\n",
    "\n",
    "You will be able to: \n",
    "\n",
    "* Practice using functions to organize your code\n",
    "* Use pagination to retrieve all results from an API query\n",
    "* Practice parsing data returned from an API query\n",
    "* Practice interpreting visualizations of a dataset\n",
    "* Create maps using Folium"
   ]
  },
  {
   "cell_type": "markdown",
   "metadata": {},
   "source": [
    "## Your Task: Query Yelp for All Businesses in a Category and Analyze the Results\n",
    "\n",
    "![restaurant counter with pizza](images/restaurant_counter.jpg)\n",
    "\n",
    "Photo by <a href=\"https://unsplash.com/@jordanmadrid?utm_source=unsplash&utm_medium=referral&utm_content=creditCopyText\">Jordan Madrid</a> on <a href=\"/s/photos/pizza-restaurant?utm_source=unsplash&utm_medium=referral&utm_content=creditCopyText\">Unsplash</a>"
   ]
  },
  {
   "cell_type": "markdown",
   "metadata": {},
   "source": [
    "### Overview\n",
    "\n",
    "You've now worked with some API calls, but we have yet to see how to retrieve a more complete dataset in a programmatic manner. In this lab, you will write a query of businesses on Yelp, then use *pagination* to retrieve all possible results for that query. Then you will create a summary of your findings, including a Folium map of the geographic locations of those businesses.\n",
    "\n",
    "### Technical Details\n",
    "\n",
    "Returning to the Yelp API, the [documentation](https://www.yelp.com/developers/documentation/v3/business_search) also provides us details regarding the **API limits**. These often include details about the number of requests a user is allowed to make within a specified time limit and the maximum number of results to be returned. In this case, we are told that any request has a **maximum of 50 results per request** and defaults to 20. Furthermore, any search will be limited to a **total of 1000 results**. To retrieve all 1000 of these results, we would have to page through the results piece by piece, retrieving 50 at a time. Processes such as these are often referred to as pagination.\n",
    "\n",
    "Also, be mindful of the **API** ***rate*** **limits**. You can only make **5000 requests per day** and are also can make requests too fast. Start prototyping small before running a loop that could be faulty. You can also use `time.sleep(n)` to add delays. For more details see https://www.yelp.com/developers/documentation/v3/rate_limiting.\n",
    "\n",
    "In this lab, you will define a search and then paginate over the results to retrieve all of the results. You'll then parse these responses as a list of dictionaries (for further exploration) and create a map using Folium to visualize the results geographically.\n",
    "\n",
    "### Requirements\n",
    "\n",
    "#### 1. Make the Initial Request\n",
    "\n",
    "Start by filling in your API key to make the initial request to the business search API. Investigate the structure of the response you get back and start figuring out how you will extract the relevant information.\n",
    "\n",
    "#### 2. Add Pagination\n",
    "\n",
    "Using loops and functions, collect the maximum number of results for your query from the API.\n",
    "\n",
    "#### 3. Perform Exploratory Analysis\n",
    "\n",
    "Interpret visualizations related to the price range, average rating, and number of reviews for all query results.\n",
    "\n",
    "#### 4. Create a Folium Map\n",
    "\n",
    "Using latitude and longitude data, plot the query results on an interactive map."
   ]
  },
  {
   "cell_type": "markdown",
   "metadata": {},
   "source": [
    "## 1. Make the Initial Request\n",
    "\n",
    "### Querying\n",
    "\n",
    "Start by making an initial request to the Yelp API. Your search must include at least 2 parameters: **term** and **location**. For example, you might search for pizza restaurants in NYC. The term and location is up to you but make the request below.\n",
    "\n",
    "Use the `requests` library ([documentation here](https://requests.readthedocs.io/en/master/user/quickstart/#make-a-request)).\n",
    "\n",
    "You'll also need an API key from Yelp. If you haven't done this already, go to the Yelp [Manage App page](https://www.yelp.com/developers/v3/manage_app) and create a new app (after making an account if you haven't already)."
   ]
  },
  {
   "cell_type": "code",
   "execution_count": 5,
   "metadata": {},
   "outputs": [
    {
     "data": {
      "text/plain": [
       "<Response [200]>"
      ]
     },
     "execution_count": 5,
     "metadata": {},
     "output_type": "execute_result"
    }
   ],
   "source": [
    "# Replace None with appropriate code\n",
    "\n",
    "# Import the requests library\n",
    "import requests\n",
    "\n",
    "# Get this from the \"Manage App\" page. Make sure you set them\n",
    "# back to None before pushing this to GitHub, since otherwise\n",
    "# your credentials will be compromised\n",
    "\n",
    "api_key = <PRIVATE>\n",
    "\n",
    "# These can be whatever you want! But the solution uses \"pizza\"\n",
    "# and \"New York NY\" if you want to compare your work directly\n",
    "term = \"pizza\"\n",
    "location = \"New York NY\"\n",
    "\n",
    "# Set up params for request\n",
    "url = \"https://api.yelp.com/v3/businesses/search\"\n",
    "headers = {\n",
    "    \"Authorization\": \"Bearer {}\".format(api_key)\n",
    "}\n",
    "url_params = {\n",
    "    \"term\": term.replace(\" \", \"+\"),\n",
    "    \"location\": location.replace(\" \", \"+\")\n",
    "}\n",
    "\n",
    "# Make the request using requests.get, passing in\n",
    "# url, headers=headers, and params=url_params\n",
    "response = requests.get(url,headers=headers,params=url_params)\n",
    "\n",
    "# Confirm we got a 200 response\n",
    "response"
   ]
  },
  {
   "cell_type": "code",
   "execution_count": 6,
   "metadata": {},
   "outputs": [
    {
     "data": {
      "text/plain": [
       "dict_keys(['businesses', 'total', 'region'])"
      ]
     },
     "execution_count": 6,
     "metadata": {},
     "output_type": "execute_result"
    }
   ],
   "source": [
    "# Run this cell without changes\n",
    "\n",
    "# Get the response body in JSON format\n",
    "response_json = response.json()\n",
    "# View the keys\n",
    "response_json.keys()"
   ]
  },
  {
   "cell_type": "markdown",
   "metadata": {},
   "source": [
    "### Extracting Data\n",
    "\n",
    "Now, retrieve the value associated with the `'businesses'` key, and inspect its contents."
   ]
  },
  {
   "cell_type": "code",
   "execution_count": 8,
   "metadata": {},
   "outputs": [
    {
     "data": {
      "text/plain": [
       "[{'id': 'zj8Lq1T8KIC5zwFief15jg',\n",
       "  'alias': 'prince-street-pizza-new-york-2',\n",
       "  'name': 'Prince Street Pizza',\n",
       "  'image_url': 'https://s3-media3.fl.yelpcdn.com/bphoto/ZAukOyv530w4KjOHC5YY1w/o.jpg',\n",
       "  'is_closed': False,\n",
       "  'url': 'https://www.yelp.com/biz/prince-street-pizza-new-york-2?adjust_creative=ncQZAKlXnUULPKR2VsbHtg&utm_campaign=yelp_api_v3&utm_medium=api_v3_business_search&utm_source=ncQZAKlXnUULPKR2VsbHtg',\n",
       "  'review_count': 4276,\n",
       "  'categories': [{'alias': 'pizza', 'title': 'Pizza'},\n",
       "   {'alias': 'italian', 'title': 'Italian'}],\n",
       "  'rating': 4.5,\n",
       "  'coordinates': {'latitude': 40.72308755605564,\n",
       "   'longitude': -73.99453001177575},\n",
       "  'transactions': ['pickup', 'delivery'],\n",
       "  'price': '$',\n",
       "  'location': {'address1': '27 Prince St',\n",
       "   'address2': None,\n",
       "   'address3': '',\n",
       "   'city': 'New York',\n",
       "   'zip_code': '10012',\n",
       "   'country': 'US',\n",
       "   'state': 'NY',\n",
       "   'display_address': ['27 Prince St', 'New York, NY 10012']},\n",
       "  'phone': '+12129664100',\n",
       "  'display_phone': '(212) 966-4100',\n",
       "  'distance': 1961.8771417367063},\n",
       " {'id': 'ysqgdbSrezXgVwER2kQWKA',\n",
       "  'alias': 'julianas-brooklyn-3',\n",
       "  'name': \"Juliana's\",\n",
       "  'image_url': 'https://s3-media2.fl.yelpcdn.com/bphoto/clscwgOF9_Ecq-Rwsq7jyQ/o.jpg',\n",
       "  'is_closed': False,\n",
       "  'url': 'https://www.yelp.com/biz/julianas-brooklyn-3?adjust_creative=ncQZAKlXnUULPKR2VsbHtg&utm_campaign=yelp_api_v3&utm_medium=api_v3_business_search&utm_source=ncQZAKlXnUULPKR2VsbHtg',\n",
       "  'review_count': 2416,\n",
       "  'categories': [{'alias': 'pizza', 'title': 'Pizza'}],\n",
       "  'rating': 4.5,\n",
       "  'coordinates': {'latitude': 40.70274718768062,\n",
       "   'longitude': -73.99343490196397},\n",
       "  'transactions': ['delivery'],\n",
       "  'price': '$$',\n",
       "  'location': {'address1': '19 Old Fulton St',\n",
       "   'address2': '',\n",
       "   'address3': '',\n",
       "   'city': 'Brooklyn',\n",
       "   'zip_code': '11201',\n",
       "   'country': 'US',\n",
       "   'state': 'NY',\n",
       "   'display_address': ['19 Old Fulton St', 'Brooklyn, NY 11201']},\n",
       "  'phone': '+17185966700',\n",
       "  'display_phone': '(718) 596-6700',\n",
       "  'distance': 308.56984360837544}]"
      ]
     },
     "execution_count": 8,
     "metadata": {},
     "output_type": "execute_result"
    }
   ],
   "source": [
    "# Replace None with appropriate code\n",
    "\n",
    "# Retrieve the value from response_json\n",
    "#businesses=response.json()[\"businesses\"]\n",
    "businesses = response_json[\"businesses\"]    \n",
    "\n",
    "# View the first 2 records\n",
    "#response.json()[\"businesses\"][:2]\n",
    "businesses[:2]"
   ]
  },
  {
   "cell_type": "code",
   "execution_count": 11,
   "metadata": {},
   "outputs": [
    {
     "data": {
      "text/plain": [
       "20"
      ]
     },
     "execution_count": 11,
     "metadata": {},
     "output_type": "execute_result"
    }
   ],
   "source": [
    "#response.json()[\"businesses\"] is a list of 20 dictionaries\n",
    "len(response.json()[\"businesses\"])"
   ]
  },
  {
   "cell_type": "code",
   "execution_count": 97,
   "metadata": {},
   "outputs": [
    {
     "data": {
      "text/html": [
       "<div>\n",
       "<style scoped>\n",
       "    .dataframe tbody tr th:only-of-type {\n",
       "        vertical-align: middle;\n",
       "    }\n",
       "\n",
       "    .dataframe tbody tr th {\n",
       "        vertical-align: top;\n",
       "    }\n",
       "\n",
       "    .dataframe thead th {\n",
       "        text-align: right;\n",
       "    }\n",
       "</style>\n",
       "<table border=\"1\" class=\"dataframe\">\n",
       "  <thead>\n",
       "    <tr style=\"text-align: right;\">\n",
       "      <th></th>\n",
       "      <th>id</th>\n",
       "      <th>alias</th>\n",
       "      <th>name</th>\n",
       "      <th>image_url</th>\n",
       "      <th>is_closed</th>\n",
       "      <th>url</th>\n",
       "      <th>review_count</th>\n",
       "      <th>categories</th>\n",
       "      <th>rating</th>\n",
       "      <th>coordinates</th>\n",
       "      <th>transactions</th>\n",
       "      <th>price</th>\n",
       "      <th>location</th>\n",
       "      <th>phone</th>\n",
       "      <th>display_phone</th>\n",
       "      <th>distance</th>\n",
       "    </tr>\n",
       "  </thead>\n",
       "  <tbody>\n",
       "    <tr>\n",
       "      <th>0</th>\n",
       "      <td>zj8Lq1T8KIC5zwFief15jg</td>\n",
       "      <td>prince-street-pizza-new-york-2</td>\n",
       "      <td>Prince Street Pizza</td>\n",
       "      <td>https://s3-media3.fl.yelpcdn.com/bphoto/ZAukOy...</td>\n",
       "      <td>False</td>\n",
       "      <td>https://www.yelp.com/biz/prince-street-pizza-n...</td>\n",
       "      <td>4276</td>\n",
       "      <td>[{'alias': 'pizza', 'title': 'Pizza'}, {'alias...</td>\n",
       "      <td>4.5</td>\n",
       "      <td>{'latitude': 40.72308755605564, 'longitude': -...</td>\n",
       "      <td>[pickup, delivery]</td>\n",
       "      <td>$</td>\n",
       "      <td>{'address1': '27 Prince St', 'address2': None,...</td>\n",
       "      <td>+12129664100</td>\n",
       "      <td>(212) 966-4100</td>\n",
       "      <td>1961.877142</td>\n",
       "    </tr>\n",
       "    <tr>\n",
       "      <th>1</th>\n",
       "      <td>ysqgdbSrezXgVwER2kQWKA</td>\n",
       "      <td>julianas-brooklyn-3</td>\n",
       "      <td>Juliana's</td>\n",
       "      <td>https://s3-media2.fl.yelpcdn.com/bphoto/clscwg...</td>\n",
       "      <td>False</td>\n",
       "      <td>https://www.yelp.com/biz/julianas-brooklyn-3?a...</td>\n",
       "      <td>2416</td>\n",
       "      <td>[{'alias': 'pizza', 'title': 'Pizza'}]</td>\n",
       "      <td>4.5</td>\n",
       "      <td>{'latitude': 40.70274718768062, 'longitude': -...</td>\n",
       "      <td>[delivery]</td>\n",
       "      <td>$$</td>\n",
       "      <td>{'address1': '19 Old Fulton St', 'address2': '...</td>\n",
       "      <td>+17185966700</td>\n",
       "      <td>(718) 596-6700</td>\n",
       "      <td>308.569844</td>\n",
       "    </tr>\n",
       "    <tr>\n",
       "      <th>2</th>\n",
       "      <td>WG639VkTjmK5dzydd1BBJA</td>\n",
       "      <td>rubirosa-new-york-2</td>\n",
       "      <td>Rubirosa</td>\n",
       "      <td>https://s3-media4.fl.yelpcdn.com/bphoto/LuSzR8...</td>\n",
       "      <td>False</td>\n",
       "      <td>https://www.yelp.com/biz/rubirosa-new-york-2?a...</td>\n",
       "      <td>2602</td>\n",
       "      <td>[{'alias': 'italian', 'title': 'Italian'}, {'a...</td>\n",
       "      <td>4.5</td>\n",
       "      <td>{'latitude': 40.722766, 'longitude': -73.996233}</td>\n",
       "      <td>[pickup, delivery]</td>\n",
       "      <td>$$</td>\n",
       "      <td>{'address1': '235 Mulberry St', 'address2': ''...</td>\n",
       "      <td>+12129650500</td>\n",
       "      <td>(212) 965-0500</td>\n",
       "      <td>1932.946770</td>\n",
       "    </tr>\n",
       "    <tr>\n",
       "      <th>3</th>\n",
       "      <td>WIhm0W9197f_rRtDziq5qQ</td>\n",
       "      <td>lombardis-pizza-new-york-4</td>\n",
       "      <td>Lombardi's Pizza</td>\n",
       "      <td>https://s3-media1.fl.yelpcdn.com/bphoto/UZ6V_h...</td>\n",
       "      <td>False</td>\n",
       "      <td>https://www.yelp.com/biz/lombardis-pizza-new-y...</td>\n",
       "      <td>6289</td>\n",
       "      <td>[{'alias': 'pizza', 'title': 'Pizza'}]</td>\n",
       "      <td>4.0</td>\n",
       "      <td>{'latitude': 40.7215934960083, 'longitude': -7...</td>\n",
       "      <td>[pickup, delivery]</td>\n",
       "      <td>$$</td>\n",
       "      <td>{'address1': '32 Spring St', 'address2': '', '...</td>\n",
       "      <td>+12129417994</td>\n",
       "      <td>(212) 941-7994</td>\n",
       "      <td>1798.995978</td>\n",
       "    </tr>\n",
       "    <tr>\n",
       "      <th>4</th>\n",
       "      <td>2ggi1luerd3Mf_C82JvCYg</td>\n",
       "      <td>grimaldis-pizzeria-brooklyn-4</td>\n",
       "      <td>Grimaldi's Pizzeria</td>\n",
       "      <td>https://s3-media2.fl.yelpcdn.com/bphoto/TNKqW3...</td>\n",
       "      <td>False</td>\n",
       "      <td>https://www.yelp.com/biz/grimaldis-pizzeria-br...</td>\n",
       "      <td>4761</td>\n",
       "      <td>[{'alias': 'pizza', 'title': 'Pizza'}]</td>\n",
       "      <td>3.5</td>\n",
       "      <td>{'latitude': 40.702583, 'longitude': -73.9932413}</td>\n",
       "      <td>[pickup, delivery]</td>\n",
       "      <td>$$</td>\n",
       "      <td>{'address1': '1 Front St', 'address2': '', 'ad...</td>\n",
       "      <td>+17188584300</td>\n",
       "      <td>(718) 858-4300</td>\n",
       "      <td>330.347462</td>\n",
       "    </tr>\n",
       "    <tr>\n",
       "      <th>5</th>\n",
       "      <td>Q9F2ocrmYuGt1yn3M7MOBw</td>\n",
       "      <td>lucali-brooklyn-3</td>\n",
       "      <td>Lucali</td>\n",
       "      <td>https://s3-media3.fl.yelpcdn.com/bphoto/Yl_eZ_...</td>\n",
       "      <td>False</td>\n",
       "      <td>https://www.yelp.com/biz/lucali-brooklyn-3?adj...</td>\n",
       "      <td>1772</td>\n",
       "      <td>[{'alias': 'pizza', 'title': 'Pizza'}]</td>\n",
       "      <td>4.0</td>\n",
       "      <td>{'latitude': 40.6818, 'longitude': -74.00024}</td>\n",
       "      <td>[delivery]</td>\n",
       "      <td>$$</td>\n",
       "      <td>{'address1': '575 Henry St', 'address2': None,...</td>\n",
       "      <td>+17188584086</td>\n",
       "      <td>(718) 858-4086</td>\n",
       "      <td>2674.849860</td>\n",
       "    </tr>\n",
       "    <tr>\n",
       "      <th>6</th>\n",
       "      <td>LF1QAuvpfX7KGQlg2zMg6Q</td>\n",
       "      <td>johns-of-bleecker-street-new-york-2</td>\n",
       "      <td>John's of Bleecker Street</td>\n",
       "      <td>https://s3-media1.fl.yelpcdn.com/bphoto/r2bmU0...</td>\n",
       "      <td>False</td>\n",
       "      <td>https://www.yelp.com/biz/johns-of-bleecker-str...</td>\n",
       "      <td>2243</td>\n",
       "      <td>[{'alias': 'pizza', 'title': 'Pizza'}]</td>\n",
       "      <td>4.0</td>\n",
       "      <td>{'latitude': 40.73158, 'longitude': -74.00332}</td>\n",
       "      <td>[pickup, delivery]</td>\n",
       "      <td>$$</td>\n",
       "      <td>{'address1': '278 Bleecker St', 'address2': ''...</td>\n",
       "      <td>+12122431680</td>\n",
       "      <td>(212) 243-1680</td>\n",
       "      <td>3010.899021</td>\n",
       "    </tr>\n",
       "    <tr>\n",
       "      <th>7</th>\n",
       "      <td>FhXjAc6nKLf414KxYujUHw</td>\n",
       "      <td>robertas-brooklyn-2</td>\n",
       "      <td>Roberta's</td>\n",
       "      <td>https://s3-media4.fl.yelpcdn.com/bphoto/8fY9fA...</td>\n",
       "      <td>False</td>\n",
       "      <td>https://www.yelp.com/biz/robertas-brooklyn-2?a...</td>\n",
       "      <td>3077</td>\n",
       "      <td>[{'alias': 'pizza', 'title': 'Pizza'}, {'alias...</td>\n",
       "      <td>4.0</td>\n",
       "      <td>{'latitude': 40.70493, 'longitude': -73.93399}</td>\n",
       "      <td>[pickup, delivery]</td>\n",
       "      <td>$$</td>\n",
       "      <td>{'address1': '261 Moore St', 'address2': '', '...</td>\n",
       "      <td>+17184171118</td>\n",
       "      <td>(718) 417-1118</td>\n",
       "      <td>5083.523312</td>\n",
       "    </tr>\n",
       "    <tr>\n",
       "      <th>8</th>\n",
       "      <td>MphfKkYFEe0BDQ6hZ0A5fA</td>\n",
       "      <td>gelso-and-grand-new-york</td>\n",
       "      <td>Gelso &amp; Grand</td>\n",
       "      <td>https://s3-media2.fl.yelpcdn.com/bphoto/IGMpmf...</td>\n",
       "      <td>False</td>\n",
       "      <td>https://www.yelp.com/biz/gelso-and-grand-new-y...</td>\n",
       "      <td>1189</td>\n",
       "      <td>[{'alias': 'italian', 'title': 'Italian'}, {'a...</td>\n",
       "      <td>4.5</td>\n",
       "      <td>{'latitude': 40.7194089547259, 'longitude': -7...</td>\n",
       "      <td>[pickup, delivery]</td>\n",
       "      <td>$$</td>\n",
       "      <td>{'address1': '186 Grand St', 'address2': '', '...</td>\n",
       "      <td>+12122261600</td>\n",
       "      <td>(212) 226-1600</td>\n",
       "      <td>1574.349032</td>\n",
       "    </tr>\n",
       "    <tr>\n",
       "      <th>9</th>\n",
       "      <td>C8j0q4Ma_S5hBGuAI-aaww</td>\n",
       "      <td>di-fara-pizza-brooklyn</td>\n",
       "      <td>Di Fara Pizza</td>\n",
       "      <td>https://s3-media3.fl.yelpcdn.com/bphoto/4dfe9q...</td>\n",
       "      <td>False</td>\n",
       "      <td>https://www.yelp.com/biz/di-fara-pizza-brookly...</td>\n",
       "      <td>3739</td>\n",
       "      <td>[{'alias': 'pizza', 'title': 'Pizza'}]</td>\n",
       "      <td>4.0</td>\n",
       "      <td>{'latitude': 40.625093, 'longitude': -73.961531}</td>\n",
       "      <td>[pickup, delivery]</td>\n",
       "      <td>$$</td>\n",
       "      <td>{'address1': '1424 Ave J', 'address2': '', 'ad...</td>\n",
       "      <td>+17182581367</td>\n",
       "      <td>(718) 258-1367</td>\n",
       "      <td>9352.269073</td>\n",
       "    </tr>\n",
       "    <tr>\n",
       "      <th>10</th>\n",
       "      <td>uc5qQMzs96rzjK27epDCug</td>\n",
       "      <td>joes-pizza-new-york-4</td>\n",
       "      <td>Joe's Pizza</td>\n",
       "      <td>https://s3-media4.fl.yelpcdn.com/bphoto/1TvTRG...</td>\n",
       "      <td>False</td>\n",
       "      <td>https://www.yelp.com/biz/joes-pizza-new-york-4...</td>\n",
       "      <td>2780</td>\n",
       "      <td>[{'alias': 'pizza', 'title': 'Pizza'}]</td>\n",
       "      <td>4.0</td>\n",
       "      <td>{'latitude': 40.73060076, 'longitude': -74.002...</td>\n",
       "      <td>[delivery]</td>\n",
       "      <td>$</td>\n",
       "      <td>{'address1': '7 Carmine St', 'address2': '', '...</td>\n",
       "      <td>+12123661182</td>\n",
       "      <td>(212) 366-1182</td>\n",
       "      <td>2874.702514</td>\n",
       "    </tr>\n",
       "    <tr>\n",
       "      <th>11</th>\n",
       "      <td>oJ_XSPZFpvIt6rvheSQl7A</td>\n",
       "      <td>bleecker-street-pizza-new-york</td>\n",
       "      <td>Bleecker Street Pizza</td>\n",
       "      <td>https://s3-media4.fl.yelpcdn.com/bphoto/Kyi2tP...</td>\n",
       "      <td>False</td>\n",
       "      <td>https://www.yelp.com/biz/bleecker-street-pizza...</td>\n",
       "      <td>2564</td>\n",
       "      <td>[{'alias': 'pizza', 'title': 'Pizza'}, {'alias...</td>\n",
       "      <td>4.0</td>\n",
       "      <td>{'latitude': 40.7320627016512, 'longitude': -7...</td>\n",
       "      <td>[pickup, delivery]</td>\n",
       "      <td>$</td>\n",
       "      <td>{'address1': '69 7th Ave S', 'address2': None,...</td>\n",
       "      <td>+12129244466</td>\n",
       "      <td>(212) 924-4466</td>\n",
       "      <td>3073.574220</td>\n",
       "    </tr>\n",
       "    <tr>\n",
       "      <th>12</th>\n",
       "      <td>v1DHGRNCH9247WLYoaoA9A</td>\n",
       "      <td>l-industrie-pizzeria-brooklyn</td>\n",
       "      <td>L'industrie Pizzeria</td>\n",
       "      <td>https://s3-media2.fl.yelpcdn.com/bphoto/_tHRJG...</td>\n",
       "      <td>False</td>\n",
       "      <td>https://www.yelp.com/biz/l-industrie-pizzeria-...</td>\n",
       "      <td>674</td>\n",
       "      <td>[{'alias': 'pizza', 'title': 'Pizza'}]</td>\n",
       "      <td>4.5</td>\n",
       "      <td>{'latitude': 40.71162, 'longitude': -73.95783}</td>\n",
       "      <td>[delivery]</td>\n",
       "      <td>$</td>\n",
       "      <td>{'address1': '254 S 2nd St', 'address2': '', '...</td>\n",
       "      <td>+17185990002</td>\n",
       "      <td>(718) 599-0002</td>\n",
       "      <td>3145.016041</td>\n",
       "    </tr>\n",
       "    <tr>\n",
       "      <th>13</th>\n",
       "      <td>0UdC0VYX6aAvLiOcpR4MVQ</td>\n",
       "      <td>joes-pizza-new-york-7</td>\n",
       "      <td>Joe's Pizza</td>\n",
       "      <td>https://s3-media3.fl.yelpcdn.com/bphoto/BTCcvl...</td>\n",
       "      <td>False</td>\n",
       "      <td>https://www.yelp.com/biz/joes-pizza-new-york-7...</td>\n",
       "      <td>976</td>\n",
       "      <td>[{'alias': 'pizza', 'title': 'Pizza'}]</td>\n",
       "      <td>4.0</td>\n",
       "      <td>{'latitude': 40.73331, 'longitude': -73.98763}</td>\n",
       "      <td>[pickup, delivery]</td>\n",
       "      <td>$</td>\n",
       "      <td>{'address1': '150 E 14th St', 'address2': '', ...</td>\n",
       "      <td>+12123889474</td>\n",
       "      <td>(212) 388-9474</td>\n",
       "      <td>3140.263109</td>\n",
       "    </tr>\n",
       "    <tr>\n",
       "      <th>14</th>\n",
       "      <td>i_rg-OLXQbpRUN7O3MeCeA</td>\n",
       "      <td>piz-zetta-brooklyn-2</td>\n",
       "      <td>Piz-zetta</td>\n",
       "      <td>https://s3-media2.fl.yelpcdn.com/bphoto/9L4viD...</td>\n",
       "      <td>False</td>\n",
       "      <td>https://www.yelp.com/biz/piz-zetta-brooklyn-2?...</td>\n",
       "      <td>310</td>\n",
       "      <td>[{'alias': 'italian', 'title': 'Italian'}, {'a...</td>\n",
       "      <td>4.5</td>\n",
       "      <td>{'latitude': 40.69116658201196, 'longitude': -...</td>\n",
       "      <td>[pickup, delivery]</td>\n",
       "      <td>$</td>\n",
       "      <td>{'address1': '90 Livingston St', 'address2': '...</td>\n",
       "      <td>+17184227878</td>\n",
       "      <td>(718) 422-7878</td>\n",
       "      <td>1616.959411</td>\n",
       "    </tr>\n",
       "    <tr>\n",
       "      <th>15</th>\n",
       "      <td>hGksyTiHBBdrhbiVjXzWVw</td>\n",
       "      <td>scarrs-pizza-new-york</td>\n",
       "      <td>Scarr's Pizza</td>\n",
       "      <td>https://s3-media3.fl.yelpcdn.com/bphoto/xonxGJ...</td>\n",
       "      <td>False</td>\n",
       "      <td>https://www.yelp.com/biz/scarrs-pizza-new-york...</td>\n",
       "      <td>561</td>\n",
       "      <td>[{'alias': 'pizza', 'title': 'Pizza'}]</td>\n",
       "      <td>4.0</td>\n",
       "      <td>{'latitude': 40.71534, 'longitude': -73.9914}</td>\n",
       "      <td>[pickup, delivery]</td>\n",
       "      <td>$</td>\n",
       "      <td>{'address1': '22 Orchard St', 'address2': '', ...</td>\n",
       "      <td>+12123343481</td>\n",
       "      <td>(212) 334-3481</td>\n",
       "      <td>1125.784330</td>\n",
       "    </tr>\n",
       "    <tr>\n",
       "      <th>16</th>\n",
       "      <td>TWH4MjLtN1fKlF-7n6YXHg</td>\n",
       "      <td>lil-frankies-new-york</td>\n",
       "      <td>Lil Frankie's</td>\n",
       "      <td>https://s3-media3.fl.yelpcdn.com/bphoto/t0OsEV...</td>\n",
       "      <td>False</td>\n",
       "      <td>https://www.yelp.com/biz/lil-frankies-new-york...</td>\n",
       "      <td>1311</td>\n",
       "      <td>[{'alias': 'pizza', 'title': 'Pizza'}, {'alias...</td>\n",
       "      <td>4.0</td>\n",
       "      <td>{'latitude': 40.723625, 'longitude': -73.988555}</td>\n",
       "      <td>[pickup, delivery]</td>\n",
       "      <td>$$</td>\n",
       "      <td>{'address1': '19 1st Ave', 'address2': '', 'ad...</td>\n",
       "      <td>+12124204900</td>\n",
       "      <td>(212) 420-4900</td>\n",
       "      <td>2079.035043</td>\n",
       "    </tr>\n",
       "    <tr>\n",
       "      <th>17</th>\n",
       "      <td>xxgcU_oFIox_pAmroo9WwA</td>\n",
       "      <td>front-street-pizza-brooklyn</td>\n",
       "      <td>Front Street Pizza</td>\n",
       "      <td>https://s3-media1.fl.yelpcdn.com/bphoto/ybrfmg...</td>\n",
       "      <td>False</td>\n",
       "      <td>https://www.yelp.com/biz/front-street-pizza-br...</td>\n",
       "      <td>408</td>\n",
       "      <td>[{'alias': 'pizza', 'title': 'Pizza'}, {'alias...</td>\n",
       "      <td>4.0</td>\n",
       "      <td>{'latitude': 40.70244, 'longitude': -73.98943}</td>\n",
       "      <td>[pickup, delivery]</td>\n",
       "      <td>$</td>\n",
       "      <td>{'address1': '80 Front St', 'address2': '', 'a...</td>\n",
       "      <td>+17188753700</td>\n",
       "      <td>(718) 875-3700</td>\n",
       "      <td>550.439226</td>\n",
       "    </tr>\n",
       "    <tr>\n",
       "      <th>18</th>\n",
       "      <td>qoBcWhGwlcUsKIQ2nB22vA</td>\n",
       "      <td>lombardos-of-bay-ridge-brooklyn-2</td>\n",
       "      <td>Lombardo's of Bay Ridge</td>\n",
       "      <td>https://s3-media2.fl.yelpcdn.com/bphoto/dApR-o...</td>\n",
       "      <td>False</td>\n",
       "      <td>https://www.yelp.com/biz/lombardos-of-bay-ridg...</td>\n",
       "      <td>166</td>\n",
       "      <td>[{'alias': 'pizza', 'title': 'Pizza'}, {'alias...</td>\n",
       "      <td>5.0</td>\n",
       "      <td>{'latitude': 40.634741, 'longitude': -74.0284259}</td>\n",
       "      <td>[pickup, delivery]</td>\n",
       "      <td>$$</td>\n",
       "      <td>{'address1': '279 71st St', 'address2': None, ...</td>\n",
       "      <td>+17182387100</td>\n",
       "      <td>(718) 238-7100</td>\n",
       "      <td>8367.095256</td>\n",
       "    </tr>\n",
       "    <tr>\n",
       "      <th>19</th>\n",
       "      <td>2xQmBB6w-W6lxiex80fA9A</td>\n",
       "      <td>luigis-pizzeria-brooklyn-4</td>\n",
       "      <td>Luigi's Pizzeria</td>\n",
       "      <td>https://s3-media1.fl.yelpcdn.com/bphoto/FE-VEm...</td>\n",
       "      <td>False</td>\n",
       "      <td>https://www.yelp.com/biz/luigis-pizzeria-brook...</td>\n",
       "      <td>262</td>\n",
       "      <td>[{'alias': 'pizza', 'title': 'Pizza'}]</td>\n",
       "      <td>4.5</td>\n",
       "      <td>{'latitude': 40.6897, 'longitude': -73.965369}</td>\n",
       "      <td>[delivery]</td>\n",
       "      <td>$</td>\n",
       "      <td>{'address1': '326 Dekalb Ave', 'address2': '',...</td>\n",
       "      <td>+17187832430</td>\n",
       "      <td>(718) 783-2430</td>\n",
       "      <td>3001.831815</td>\n",
       "    </tr>\n",
       "  </tbody>\n",
       "</table>\n",
       "</div>"
      ],
      "text/plain": [
       "                        id                                alias  \\\n",
       "0   zj8Lq1T8KIC5zwFief15jg       prince-street-pizza-new-york-2   \n",
       "1   ysqgdbSrezXgVwER2kQWKA                  julianas-brooklyn-3   \n",
       "2   WG639VkTjmK5dzydd1BBJA                  rubirosa-new-york-2   \n",
       "3   WIhm0W9197f_rRtDziq5qQ           lombardis-pizza-new-york-4   \n",
       "4   2ggi1luerd3Mf_C82JvCYg        grimaldis-pizzeria-brooklyn-4   \n",
       "5   Q9F2ocrmYuGt1yn3M7MOBw                    lucali-brooklyn-3   \n",
       "6   LF1QAuvpfX7KGQlg2zMg6Q  johns-of-bleecker-street-new-york-2   \n",
       "7   FhXjAc6nKLf414KxYujUHw                  robertas-brooklyn-2   \n",
       "8   MphfKkYFEe0BDQ6hZ0A5fA             gelso-and-grand-new-york   \n",
       "9   C8j0q4Ma_S5hBGuAI-aaww               di-fara-pizza-brooklyn   \n",
       "10  uc5qQMzs96rzjK27epDCug                joes-pizza-new-york-4   \n",
       "11  oJ_XSPZFpvIt6rvheSQl7A       bleecker-street-pizza-new-york   \n",
       "12  v1DHGRNCH9247WLYoaoA9A        l-industrie-pizzeria-brooklyn   \n",
       "13  0UdC0VYX6aAvLiOcpR4MVQ                joes-pizza-new-york-7   \n",
       "14  i_rg-OLXQbpRUN7O3MeCeA                 piz-zetta-brooklyn-2   \n",
       "15  hGksyTiHBBdrhbiVjXzWVw                scarrs-pizza-new-york   \n",
       "16  TWH4MjLtN1fKlF-7n6YXHg                lil-frankies-new-york   \n",
       "17  xxgcU_oFIox_pAmroo9WwA          front-street-pizza-brooklyn   \n",
       "18  qoBcWhGwlcUsKIQ2nB22vA    lombardos-of-bay-ridge-brooklyn-2   \n",
       "19  2xQmBB6w-W6lxiex80fA9A           luigis-pizzeria-brooklyn-4   \n",
       "\n",
       "                         name  \\\n",
       "0         Prince Street Pizza   \n",
       "1                   Juliana's   \n",
       "2                    Rubirosa   \n",
       "3            Lombardi's Pizza   \n",
       "4         Grimaldi's Pizzeria   \n",
       "5                      Lucali   \n",
       "6   John's of Bleecker Street   \n",
       "7                   Roberta's   \n",
       "8               Gelso & Grand   \n",
       "9               Di Fara Pizza   \n",
       "10                Joe's Pizza   \n",
       "11      Bleecker Street Pizza   \n",
       "12       L'industrie Pizzeria   \n",
       "13                Joe's Pizza   \n",
       "14                  Piz-zetta   \n",
       "15              Scarr's Pizza   \n",
       "16              Lil Frankie's   \n",
       "17         Front Street Pizza   \n",
       "18    Lombardo's of Bay Ridge   \n",
       "19           Luigi's Pizzeria   \n",
       "\n",
       "                                            image_url  is_closed  \\\n",
       "0   https://s3-media3.fl.yelpcdn.com/bphoto/ZAukOy...      False   \n",
       "1   https://s3-media2.fl.yelpcdn.com/bphoto/clscwg...      False   \n",
       "2   https://s3-media4.fl.yelpcdn.com/bphoto/LuSzR8...      False   \n",
       "3   https://s3-media1.fl.yelpcdn.com/bphoto/UZ6V_h...      False   \n",
       "4   https://s3-media2.fl.yelpcdn.com/bphoto/TNKqW3...      False   \n",
       "5   https://s3-media3.fl.yelpcdn.com/bphoto/Yl_eZ_...      False   \n",
       "6   https://s3-media1.fl.yelpcdn.com/bphoto/r2bmU0...      False   \n",
       "7   https://s3-media4.fl.yelpcdn.com/bphoto/8fY9fA...      False   \n",
       "8   https://s3-media2.fl.yelpcdn.com/bphoto/IGMpmf...      False   \n",
       "9   https://s3-media3.fl.yelpcdn.com/bphoto/4dfe9q...      False   \n",
       "10  https://s3-media4.fl.yelpcdn.com/bphoto/1TvTRG...      False   \n",
       "11  https://s3-media4.fl.yelpcdn.com/bphoto/Kyi2tP...      False   \n",
       "12  https://s3-media2.fl.yelpcdn.com/bphoto/_tHRJG...      False   \n",
       "13  https://s3-media3.fl.yelpcdn.com/bphoto/BTCcvl...      False   \n",
       "14  https://s3-media2.fl.yelpcdn.com/bphoto/9L4viD...      False   \n",
       "15  https://s3-media3.fl.yelpcdn.com/bphoto/xonxGJ...      False   \n",
       "16  https://s3-media3.fl.yelpcdn.com/bphoto/t0OsEV...      False   \n",
       "17  https://s3-media1.fl.yelpcdn.com/bphoto/ybrfmg...      False   \n",
       "18  https://s3-media2.fl.yelpcdn.com/bphoto/dApR-o...      False   \n",
       "19  https://s3-media1.fl.yelpcdn.com/bphoto/FE-VEm...      False   \n",
       "\n",
       "                                                  url  review_count  \\\n",
       "0   https://www.yelp.com/biz/prince-street-pizza-n...          4276   \n",
       "1   https://www.yelp.com/biz/julianas-brooklyn-3?a...          2416   \n",
       "2   https://www.yelp.com/biz/rubirosa-new-york-2?a...          2602   \n",
       "3   https://www.yelp.com/biz/lombardis-pizza-new-y...          6289   \n",
       "4   https://www.yelp.com/biz/grimaldis-pizzeria-br...          4761   \n",
       "5   https://www.yelp.com/biz/lucali-brooklyn-3?adj...          1772   \n",
       "6   https://www.yelp.com/biz/johns-of-bleecker-str...          2243   \n",
       "7   https://www.yelp.com/biz/robertas-brooklyn-2?a...          3077   \n",
       "8   https://www.yelp.com/biz/gelso-and-grand-new-y...          1189   \n",
       "9   https://www.yelp.com/biz/di-fara-pizza-brookly...          3739   \n",
       "10  https://www.yelp.com/biz/joes-pizza-new-york-4...          2780   \n",
       "11  https://www.yelp.com/biz/bleecker-street-pizza...          2564   \n",
       "12  https://www.yelp.com/biz/l-industrie-pizzeria-...           674   \n",
       "13  https://www.yelp.com/biz/joes-pizza-new-york-7...           976   \n",
       "14  https://www.yelp.com/biz/piz-zetta-brooklyn-2?...           310   \n",
       "15  https://www.yelp.com/biz/scarrs-pizza-new-york...           561   \n",
       "16  https://www.yelp.com/biz/lil-frankies-new-york...          1311   \n",
       "17  https://www.yelp.com/biz/front-street-pizza-br...           408   \n",
       "18  https://www.yelp.com/biz/lombardos-of-bay-ridg...           166   \n",
       "19  https://www.yelp.com/biz/luigis-pizzeria-brook...           262   \n",
       "\n",
       "                                           categories  rating  \\\n",
       "0   [{'alias': 'pizza', 'title': 'Pizza'}, {'alias...     4.5   \n",
       "1              [{'alias': 'pizza', 'title': 'Pizza'}]     4.5   \n",
       "2   [{'alias': 'italian', 'title': 'Italian'}, {'a...     4.5   \n",
       "3              [{'alias': 'pizza', 'title': 'Pizza'}]     4.0   \n",
       "4              [{'alias': 'pizza', 'title': 'Pizza'}]     3.5   \n",
       "5              [{'alias': 'pizza', 'title': 'Pizza'}]     4.0   \n",
       "6              [{'alias': 'pizza', 'title': 'Pizza'}]     4.0   \n",
       "7   [{'alias': 'pizza', 'title': 'Pizza'}, {'alias...     4.0   \n",
       "8   [{'alias': 'italian', 'title': 'Italian'}, {'a...     4.5   \n",
       "9              [{'alias': 'pizza', 'title': 'Pizza'}]     4.0   \n",
       "10             [{'alias': 'pizza', 'title': 'Pizza'}]     4.0   \n",
       "11  [{'alias': 'pizza', 'title': 'Pizza'}, {'alias...     4.0   \n",
       "12             [{'alias': 'pizza', 'title': 'Pizza'}]     4.5   \n",
       "13             [{'alias': 'pizza', 'title': 'Pizza'}]     4.0   \n",
       "14  [{'alias': 'italian', 'title': 'Italian'}, {'a...     4.5   \n",
       "15             [{'alias': 'pizza', 'title': 'Pizza'}]     4.0   \n",
       "16  [{'alias': 'pizza', 'title': 'Pizza'}, {'alias...     4.0   \n",
       "17  [{'alias': 'pizza', 'title': 'Pizza'}, {'alias...     4.0   \n",
       "18  [{'alias': 'pizza', 'title': 'Pizza'}, {'alias...     5.0   \n",
       "19             [{'alias': 'pizza', 'title': 'Pizza'}]     4.5   \n",
       "\n",
       "                                          coordinates        transactions  \\\n",
       "0   {'latitude': 40.72308755605564, 'longitude': -...  [pickup, delivery]   \n",
       "1   {'latitude': 40.70274718768062, 'longitude': -...          [delivery]   \n",
       "2    {'latitude': 40.722766, 'longitude': -73.996233}  [pickup, delivery]   \n",
       "3   {'latitude': 40.7215934960083, 'longitude': -7...  [pickup, delivery]   \n",
       "4   {'latitude': 40.702583, 'longitude': -73.9932413}  [pickup, delivery]   \n",
       "5       {'latitude': 40.6818, 'longitude': -74.00024}          [delivery]   \n",
       "6      {'latitude': 40.73158, 'longitude': -74.00332}  [pickup, delivery]   \n",
       "7      {'latitude': 40.70493, 'longitude': -73.93399}  [pickup, delivery]   \n",
       "8   {'latitude': 40.7194089547259, 'longitude': -7...  [pickup, delivery]   \n",
       "9    {'latitude': 40.625093, 'longitude': -73.961531}  [pickup, delivery]   \n",
       "10  {'latitude': 40.73060076, 'longitude': -74.002...          [delivery]   \n",
       "11  {'latitude': 40.7320627016512, 'longitude': -7...  [pickup, delivery]   \n",
       "12     {'latitude': 40.71162, 'longitude': -73.95783}          [delivery]   \n",
       "13     {'latitude': 40.73331, 'longitude': -73.98763}  [pickup, delivery]   \n",
       "14  {'latitude': 40.69116658201196, 'longitude': -...  [pickup, delivery]   \n",
       "15      {'latitude': 40.71534, 'longitude': -73.9914}  [pickup, delivery]   \n",
       "16   {'latitude': 40.723625, 'longitude': -73.988555}  [pickup, delivery]   \n",
       "17     {'latitude': 40.70244, 'longitude': -73.98943}  [pickup, delivery]   \n",
       "18  {'latitude': 40.634741, 'longitude': -74.0284259}  [pickup, delivery]   \n",
       "19     {'latitude': 40.6897, 'longitude': -73.965369}          [delivery]   \n",
       "\n",
       "   price                                           location         phone  \\\n",
       "0      $  {'address1': '27 Prince St', 'address2': None,...  +12129664100   \n",
       "1     $$  {'address1': '19 Old Fulton St', 'address2': '...  +17185966700   \n",
       "2     $$  {'address1': '235 Mulberry St', 'address2': ''...  +12129650500   \n",
       "3     $$  {'address1': '32 Spring St', 'address2': '', '...  +12129417994   \n",
       "4     $$  {'address1': '1 Front St', 'address2': '', 'ad...  +17188584300   \n",
       "5     $$  {'address1': '575 Henry St', 'address2': None,...  +17188584086   \n",
       "6     $$  {'address1': '278 Bleecker St', 'address2': ''...  +12122431680   \n",
       "7     $$  {'address1': '261 Moore St', 'address2': '', '...  +17184171118   \n",
       "8     $$  {'address1': '186 Grand St', 'address2': '', '...  +12122261600   \n",
       "9     $$  {'address1': '1424 Ave J', 'address2': '', 'ad...  +17182581367   \n",
       "10     $  {'address1': '7 Carmine St', 'address2': '', '...  +12123661182   \n",
       "11     $  {'address1': '69 7th Ave S', 'address2': None,...  +12129244466   \n",
       "12     $  {'address1': '254 S 2nd St', 'address2': '', '...  +17185990002   \n",
       "13     $  {'address1': '150 E 14th St', 'address2': '', ...  +12123889474   \n",
       "14     $  {'address1': '90 Livingston St', 'address2': '...  +17184227878   \n",
       "15     $  {'address1': '22 Orchard St', 'address2': '', ...  +12123343481   \n",
       "16    $$  {'address1': '19 1st Ave', 'address2': '', 'ad...  +12124204900   \n",
       "17     $  {'address1': '80 Front St', 'address2': '', 'a...  +17188753700   \n",
       "18    $$  {'address1': '279 71st St', 'address2': None, ...  +17182387100   \n",
       "19     $  {'address1': '326 Dekalb Ave', 'address2': '',...  +17187832430   \n",
       "\n",
       "     display_phone     distance  \n",
       "0   (212) 966-4100  1961.877142  \n",
       "1   (718) 596-6700   308.569844  \n",
       "2   (212) 965-0500  1932.946770  \n",
       "3   (212) 941-7994  1798.995978  \n",
       "4   (718) 858-4300   330.347462  \n",
       "5   (718) 858-4086  2674.849860  \n",
       "6   (212) 243-1680  3010.899021  \n",
       "7   (718) 417-1118  5083.523312  \n",
       "8   (212) 226-1600  1574.349032  \n",
       "9   (718) 258-1367  9352.269073  \n",
       "10  (212) 366-1182  2874.702514  \n",
       "11  (212) 924-4466  3073.574220  \n",
       "12  (718) 599-0002  3145.016041  \n",
       "13  (212) 388-9474  3140.263109  \n",
       "14  (718) 422-7878  1616.959411  \n",
       "15  (212) 334-3481  1125.784330  \n",
       "16  (212) 420-4900  2079.035043  \n",
       "17  (718) 875-3700   550.439226  \n",
       "18  (718) 238-7100  8367.095256  \n",
       "19  (718) 783-2430  3001.831815  "
      ]
     },
     "execution_count": 97,
     "metadata": {},
     "output_type": "execute_result"
    }
   ],
   "source": [
    "#observing dataframe format before preparing data\n",
    "import pandas as pd\n",
    "pizza_df=pd.DataFrame(response.json()[\"businesses\"])\n",
    "pizza_df"
   ]
  },
  {
   "cell_type": "code",
   "execution_count": 94,
   "metadata": {},
   "outputs": [
    {
     "data": {
      "text/plain": [
       "id               0\n",
       "alias            0\n",
       "name             0\n",
       "image_url        0\n",
       "is_closed        0\n",
       "url              0\n",
       "review_count     0\n",
       "categories       0\n",
       "rating           0\n",
       "coordinates      0\n",
       "transactions     0\n",
       "price            0\n",
       "location         0\n",
       "phone            0\n",
       "display_phone    0\n",
       "distance         0\n",
       "dtype: int64"
      ]
     },
     "execution_count": 94,
     "metadata": {},
     "output_type": "execute_result"
    }
   ],
   "source": [
    "pizza_df.isna().sum()"
   ]
  },
  {
   "cell_type": "code",
   "execution_count": 84,
   "metadata": {},
   "outputs": [
    {
     "data": {
      "text/plain": [
       "dict_items([('id', 'WG639VkTjmK5dzydd1BBJA'), ('alias', 'rubirosa-new-york-2'), ('name', 'Rubirosa'), ('image_url', 'https://s3-media4.fl.yelpcdn.com/bphoto/LuSzR8cpVQRofXOT_bMi1A/o.jpg'), ('is_closed', False), ('url', 'https://www.yelp.com/biz/rubirosa-new-york-2?adjust_creative=ncQZAKlXnUULPKR2VsbHtg&utm_campaign=yelp_api_v3&utm_medium=api_v3_business_search&utm_source=ncQZAKlXnUULPKR2VsbHtg'), ('review_count', 2602), ('categories', [{'alias': 'italian', 'title': 'Italian'}, {'alias': 'pizza', 'title': 'Pizza'}]), ('rating', 4.5), ('coordinates', {'latitude': 40.722766, 'longitude': -73.996233}), ('transactions', ['pickup', 'delivery']), ('price', '$$'), ('location', {'address1': '235 Mulberry St', 'address2': '', 'address3': '', 'city': 'New York', 'zip_code': '10012', 'country': 'US', 'state': 'NY', 'display_address': ['235 Mulberry St', 'New York, NY 10012']}), ('phone', '+12129650500'), ('display_phone', '(212) 965-0500'), ('distance', 1932.9467701334759)])"
      ]
     },
     "execution_count": 84,
     "metadata": {},
     "output_type": "execute_result"
    }
   ],
   "source": [
    "response.json()[\"businesses\"][2].items()"
   ]
  },
  {
   "cell_type": "code",
   "execution_count": 45,
   "metadata": {},
   "outputs": [
    {
     "name": "stdout",
     "output_type": "stream",
     "text": [
      "id <class 'str'>\n",
      "alias <class 'str'>\n",
      "name <class 'str'>\n",
      "image_url <class 'str'>\n",
      "is_closed <class 'bool'>\n",
      "url <class 'str'>\n",
      "review_count <class 'int'>\n",
      "categories <class 'list'>\n",
      "rating <class 'float'>\n",
      "coordinates <class 'dict'>\n",
      "transactions <class 'list'>\n",
      "price <class 'str'>\n",
      "location <class 'dict'>\n",
      "phone <class 'str'>\n",
      "display_phone <class 'str'>\n",
      "distance <class 'float'>\n"
     ]
    }
   ],
   "source": [
    "#response.json()[\"businesses\"] is a list of 20 dictionaries\n",
    "#businesses=response.json()[\"businesses\"]\n",
    "[print(key,type(value)) for key,value in businesses[0].items()][0]"
   ]
  },
  {
   "cell_type": "code",
   "execution_count": 47,
   "metadata": {},
   "outputs": [
    {
     "data": {
      "text/plain": [
       "{'latitude': 40.72308755605564, 'longitude': -73.99453001177575}"
      ]
     },
     "execution_count": 47,
     "metadata": {},
     "output_type": "execute_result"
    }
   ],
   "source": [
    "businesses[0][\"coordinates\"]"
   ]
  },
  {
   "cell_type": "code",
   "execution_count": 54,
   "metadata": {},
   "outputs": [
    {
     "data": {
      "text/plain": [
       "'Prince Street Pizza'"
      ]
     },
     "execution_count": 54,
     "metadata": {},
     "output_type": "execute_result"
    }
   ],
   "source": [
    "businesses[0][\"name\"]"
   ]
  },
  {
   "cell_type": "code",
   "execution_count": 56,
   "metadata": {},
   "outputs": [
    {
     "data": {
      "text/plain": [
       "'$'"
      ]
     },
     "execution_count": 56,
     "metadata": {},
     "output_type": "execute_result"
    }
   ],
   "source": [
    "businesses[0][\"price\"]"
   ]
  },
  {
   "cell_type": "code",
   "execution_count": 63,
   "metadata": {},
   "outputs": [
    {
     "data": {
      "text/plain": [
       "'$'"
      ]
     },
     "execution_count": 63,
     "metadata": {},
     "output_type": "execute_result"
    }
   ],
   "source": [
    "businesses[0].get(\"price\")"
   ]
  },
  {
   "cell_type": "code",
   "execution_count": 117,
   "metadata": {},
   "outputs": [
    {
     "name": "stdout",
     "output_type": "stream",
     "text": [
      "20\n",
      "20\n",
      "20\n",
      "20\n",
      "20\n",
      "20\n"
     ]
    }
   ],
   "source": [
    "print(len([business[\"name\"] for business in businesses]))\n",
    "print(len([business[\"price\"] for business in businesses]))\n",
    "print(len([business[\"review_count\"] for business in businesses]))\n",
    "print(len([business[\"rating\"] for business in businesses]))\n",
    "print(len([business[\"coordinates\"][\"longitude\"] for business in businesses]))\n",
    "print(len([business[\"coordinates\"][\"latitude\"] for business in businesses]))"
   ]
  },
  {
   "cell_type": "markdown",
   "metadata": {},
   "source": [
    "### Preparing Data\n",
    "\n",
    "Write a function `prepare_data` that takes in a list of dictionaries like `businesses` and returns a copy that has been prepared for analysis:\n",
    "\n",
    "1. The `coordinates` key-value pair has been converted into two separate key-value pairs, `latitude` and `longitude`\n",
    "2. All other key-value pairs except for `name`, `review_count`, `rating`, and `price` have been dropped\n",
    "3. All dictionaries missing one of the relevant keys or containing null values have been dropped\n",
    "\n",
    "In other words, the final keys for each dictionary should be `name`, `review_count`, `rating`, `price`, `latitude`, and `longitude`.\n",
    "\n",
    "Complete the function in the cell below:"
   ]
  },
  {
   "cell_type": "code",
   "execution_count": 118,
   "metadata": {},
   "outputs": [
    {
     "data": {
      "text/plain": [
       "[{'name': 'Prince Street Pizza',\n",
       "  'review_count': 4276,\n",
       "  'rating': 4.5,\n",
       "  'price': '$',\n",
       "  'latitude': 40.72308755605564,\n",
       "  'longitude': -73.99453001177575},\n",
       " {'name': \"Juliana's\",\n",
       "  'review_count': 2416,\n",
       "  'rating': 4.5,\n",
       "  'price': '$$',\n",
       "  'latitude': 40.70274718768062,\n",
       "  'longitude': -73.99343490196397},\n",
       " {'name': 'Rubirosa',\n",
       "  'review_count': 2602,\n",
       "  'rating': 4.5,\n",
       "  'price': '$$',\n",
       "  'latitude': 40.722766,\n",
       "  'longitude': -73.996233},\n",
       " {'name': \"Lombardi's Pizza\",\n",
       "  'review_count': 6289,\n",
       "  'rating': 4.0,\n",
       "  'price': '$$',\n",
       "  'latitude': 40.7215934960083,\n",
       "  'longitude': -73.9955956044561},\n",
       " {'name': \"Grimaldi's Pizzeria\",\n",
       "  'review_count': 4761,\n",
       "  'rating': 3.5,\n",
       "  'price': '$$',\n",
       "  'latitude': 40.702583,\n",
       "  'longitude': -73.9932413}]"
      ]
     },
     "execution_count": 118,
     "metadata": {},
     "output_type": "execute_result"
    }
   ],
   "source": [
    "# Replace None with appropriate code\n",
    "\n",
    "def prepare_data(data_list):\n",
    "    \"\"\"\n",
    "    This function takes in a list of dictionaries and prepares it\n",
    "    for analysis\n",
    "    \"\"\"\n",
    "    \n",
    "    # Make a new list to hold results\n",
    "    results = []\n",
    "    \n",
    "    #for each dictionary in businesses\n",
    "    #response.json()[\"businesses\"] is a list of 20 dictionaries\n",
    "    #businesses=response.json()[\"businesses\"]\n",
    "    #data_list=businesses\n",
    "    #business_data=businesses[0,...1,...2...,]\n",
    "    for business_data in data_list:\n",
    "    \n",
    "        # Make a new dictionary to hold prepared data for this business\n",
    "        prepared_data = {}\n",
    "        \n",
    "        # Extract name, review_count, rating, and price key-value pairs\n",
    "        # from business_data and add to prepared_data\n",
    "        # If a key is not present in business_data, add it to prepared_data\n",
    "        # with an associated value of None\n",
    "        for key in (\"name\",\"review_count\",\"rating\",\"price\"):\n",
    "            prepared_data[key]=business_data.get(key,None)\n",
    "    \n",
    "        # Parse and add latitude and longitude columns\n",
    "        latlong=business_data[\"coordinates\"]\n",
    "        prepared_data[\"latitude\"]=latlong[\"latitude\"]\n",
    "        prepared_data[\"longitude\"]=latlong[\"longitude\"]\n",
    "        \n",
    "        # Add to list if all values are present\n",
    "        if all(prepared_data.values()):\n",
    "            results.append(prepared_data)\n",
    "    \n",
    "    return results\n",
    "    \n",
    "# Test out function\n",
    "prepared_businesses = prepare_data(businesses)\n",
    "prepared_businesses[:5]"
   ]
  },
  {
   "cell_type": "markdown",
   "metadata": {},
   "source": [
    "Check that your function created the correct keys:"
   ]
  },
  {
   "cell_type": "code",
   "execution_count": 119,
   "metadata": {},
   "outputs": [],
   "source": [
    "# Run this cell without changes\n",
    "\n",
    "assert sorted(list(prepared_businesses[0].keys())) == ['latitude', 'longitude', 'name', 'price', 'rating', 'review_count']"
   ]
  },
  {
   "cell_type": "markdown",
   "metadata": {},
   "source": [
    "The following code will differ depending on your query, but we expect there to be 20 businesses in the original list, and potentially fewer in the prepared list (if any of them were missing data):"
   ]
  },
  {
   "cell_type": "code",
   "execution_count": 120,
   "metadata": {},
   "outputs": [
    {
     "name": "stdout",
     "output_type": "stream",
     "text": [
      "Original: 20\n",
      "Prepared: 20\n"
     ]
    }
   ],
   "source": [
    "# Run this cell without changes\n",
    "print(\"Original:\", len(businesses))\n",
    "print(\"Prepared:\", len(prepared_businesses))"
   ]
  },
  {
   "cell_type": "code",
   "execution_count": 122,
   "metadata": {},
   "outputs": [
    {
     "name": "stdout",
     "output_type": "stream",
     "text": [
      "id               0\n",
      "alias            0\n",
      "name             0\n",
      "image_url        0\n",
      "is_closed        0\n",
      "url              0\n",
      "review_count     0\n",
      "categories       0\n",
      "rating           0\n",
      "coordinates      0\n",
      "transactions     0\n",
      "price            0\n",
      "location         0\n",
      "phone            0\n",
      "display_phone    0\n",
      "distance         0\n",
      "dtype: int64\n",
      "20\n",
      "20\n",
      "20\n",
      "20\n",
      "20\n",
      "20\n"
     ]
    }
   ],
   "source": [
    "#doesn't seem like any were missing data?\n",
    "print(pizza_df.isna().sum())\n",
    "print(len([business[\"name\"] for business in businesses]))\n",
    "print(len([business[\"price\"] for business in businesses]))\n",
    "print(len([business[\"review_count\"] for business in businesses]))\n",
    "print(len([business[\"rating\"] for business in businesses]))\n",
    "print(len([business[\"coordinates\"][\"longitude\"] for business in businesses]))\n",
    "print(len([business[\"coordinates\"][\"latitude\"] for business in businesses]))"
   ]
  },
  {
   "cell_type": "markdown",
   "metadata": {},
   "source": [
    "Great! We will reuse this function once we have retrieved the full dataset."
   ]
  },
  {
   "cell_type": "markdown",
   "metadata": {},
   "source": [
    "## 2. Add Pagination\n",
    "\n",
    "Now that you are able to extract information from one page of the response, let's figure out how to request as many pages as possible.\n",
    "\n",
    "### Determining the Total\n",
    "\n",
    "Depending on the number of total results for your query, you will either retrieve all of the results, or just the first 1000 (if there are more than 1000 total).\n",
    "\n",
    "We can find the total number of results using the `\"total\"` key:"
   ]
  },
  {
   "cell_type": "code",
   "execution_count": 124,
   "metadata": {},
   "outputs": [
    {
     "data": {
      "text/plain": [
       "11900"
      ]
     },
     "execution_count": 124,
     "metadata": {},
     "output_type": "execute_result"
    }
   ],
   "source": [
    "# Run this cell without changes\n",
    "#response_json = response.json()\n",
    "response_json[\"total\"]"
   ]
  },
  {
   "cell_type": "markdown",
   "metadata": {},
   "source": [
    "(This is specific to the implementation of the Yelp API. Some APIs will just tell you that there are more pages, or will tell you the number of pages total, rather than the total number of results. If you're not sure, always check the documentation.)\n",
    "\n",
    "In the cell below, assign the variable `total` to either the value shown above (if it is less than 1000), or 1000."
   ]
  },
  {
   "cell_type": "code",
   "execution_count": 126,
   "metadata": {},
   "outputs": [
    {
     "data": {
      "text/plain": [
       "1000"
      ]
     },
     "execution_count": 126,
     "metadata": {},
     "output_type": "execute_result"
    }
   ],
   "source": [
    "total = 1000 if response_json[\"total\"]>1000 else 1000\n",
    "total"
   ]
  },
  {
   "cell_type": "markdown",
   "metadata": {},
   "source": [
    "### Calculating the Offsets\n",
    "\n",
    "The documentation states in the parameters section:\n",
    "\n",
    "> **Name**: `limit`, **Type:** int, **Description:** Optional. Number of business results to return. By default, it will return 20. Maximum is 50.\n",
    "\n",
    "> **Name**: `offset`, **Type:** int, **Description:** Optional. Offset the list of returned business results by this amount.\n",
    "\n",
    "So, to get the most results with the fewest API calls we want to set a limit of 50 every time. If, say, we wanted to get 210 total results, that would mean:\n",
    "\n",
    "1. Offset of `0` (first 50 records)\n",
    "2. Offset of `50` (second 50 records)\n",
    "3. Offset of `100` (third 50 records)\n",
    "4. Offset of `150` (fourth 50 records)\n",
    "5. Offset of `200` (final 10 records)\n",
    "\n",
    "In the cell below, create a function `get_offsets` that takes in a total and returns a list of offsets for that total. You can assume that there is a limit of 50 every time.\n",
    "\n",
    "*Hint: you can use `range` ([documentation here](https://docs.python.org/3.3/library/stdtypes.html?highlight=range#range)) to do this in one line of code. Just make the returned result is a list.*"
   ]
  },
  {
   "cell_type": "code",
   "execution_count": 129,
   "metadata": {},
   "outputs": [],
   "source": [
    "# Replace None with appropriate code\n",
    "def get_offsets(total):\n",
    "    \"\"\"\n",
    "    Get a list of offsets needed to get all pages\n",
    "    of data up until the total\n",
    "    \"\"\"\n",
    "    return list(range(0,total,50))"
   ]
  },
  {
   "cell_type": "code",
   "execution_count": 136,
   "metadata": {},
   "outputs": [
    {
     "data": {
      "text/plain": [
       "[0,\n",
       " 50,\n",
       " 100,\n",
       " 150,\n",
       " 200,\n",
       " 250,\n",
       " 300,\n",
       " 350,\n",
       " 400,\n",
       " 450,\n",
       " 500,\n",
       " 550,\n",
       " 600,\n",
       " 650,\n",
       " 700,\n",
       " 750,\n",
       " 800,\n",
       " 850,\n",
       " 900,\n",
       " 950]"
      ]
     },
     "execution_count": 136,
     "metadata": {},
     "output_type": "execute_result"
    }
   ],
   "source": [
    "#list range 0 to 1000 incremented in 50\n",
    "list(range(0,1000,50))"
   ]
  },
  {
   "cell_type": "markdown",
   "metadata": {},
   "source": [
    "Check that your function works below:"
   ]
  },
  {
   "cell_type": "code",
   "execution_count": 137,
   "metadata": {},
   "outputs": [],
   "source": [
    "# Run this cell without changes\n",
    "\n",
    "assert get_offsets(200) == [0, 50, 100, 150]\n",
    "assert get_offsets(210) == [0, 50, 100, 150, 200]"
   ]
  },
  {
   "cell_type": "markdown",
   "metadata": {},
   "source": [
    "### Putting It All Together\n",
    "\n",
    "Recall that the following variable has already been declared for you:"
   ]
  },
  {
   "cell_type": "code",
   "execution_count": 140,
   "metadata": {},
   "outputs": [
    {
     "data": {
      "text/plain": [
       "{'term': 'pizza', 'location': 'New+York+NY', 'limit': 50}"
      ]
     },
     "execution_count": 140,
     "metadata": {},
     "output_type": "execute_result"
    }
   ],
   "source": [
    "# Run this cell without changes\n",
    "url_params"
   ]
  },
  {
   "cell_type": "code",
   "execution_count": null,
   "metadata": {},
   "outputs": [],
   "source": [
    "#url_params = {\n",
    "#    \"term\": term.replace(\" \", \"+\"),\n",
    "#    \"location\": location.replace(\" \", \"+\")\n",
    "#}"
   ]
  },
  {
   "cell_type": "markdown",
   "metadata": {},
   "source": [
    "We'll go ahead and also specify that the limit should be 50 every time:"
   ]
  },
  {
   "cell_type": "code",
   "execution_count": 139,
   "metadata": {},
   "outputs": [],
   "source": [
    "# Run this cell without changes\n",
    "#add limit key to url_params\n",
    "url_params[\"limit\"] = 50"
   ]
  },
  {
   "cell_type": "markdown",
   "metadata": {},
   "source": [
    "In order to modify the offset, you'll need to add it to `url_params` with the key `\"offset\"` and whatever value is needed.\n",
    "\n",
    "In the cell below, write code that:\n",
    "\n",
    "* Creates an empty list for the full prepared dataset\n",
    "* Loops over all of the offsets from `get_offsets` and makes an API call each time with the specified offset\n",
    "* Calls `prepare_data` to get a cleaned version of the result of each API call\n",
    "* Extends the full prepared dataset list with each query's prepared dataset"
   ]
  },
  {
   "cell_type": "code",
   "execution_count": 143,
   "metadata": {},
   "outputs": [
    {
     "data": {
      "text/plain": [
       "803"
      ]
     },
     "execution_count": 143,
     "metadata": {},
     "output_type": "execute_result"
    }
   ],
   "source": [
    "# Replace None with appropriate code\n",
    "\n",
    "# Create an empty list for the full prepared dataset\n",
    "full_dataset = []\n",
    "\n",
    "for offset in get_offsets(total):\n",
    "    # Add or update the \"offset\" key-value pair in url_params\n",
    "    url_params[\"offset\"] = offset\n",
    "    \n",
    "    # Make the query and get the response\n",
    "    response = requests.get(url, headers=headers, params=url_params)\n",
    "    \n",
    "    # Get the response body in JSON format\n",
    "    response_json = response.json()\n",
    "    \n",
    "    # Get the list of businesses from the response_json\n",
    "    businesses = response_json[\"businesses\"]\n",
    "    \n",
    "    # Call the prepare_data function to get a list of processed data\n",
    "    prepared_businesses = prepare_data(businesses)\n",
    "    \n",
    "    # Extend full_dataset with this list (don't append, or you'll get\n",
    "    # a list of lists instead of a flat list)\n",
    "    full_dataset.extend(prepared_businesses)\n",
    "\n",
    "# Check the length of the full dataset. It will be up to `total`,\n",
    "# potentially less if there were missing values\n",
    "len(full_dataset)"
   ]
  },
  {
   "cell_type": "code",
   "execution_count": 145,
   "metadata": {},
   "outputs": [
    {
     "data": {
      "text/plain": [
       "{'term': 'pizza', 'location': 'New+York+NY', 'limit': 50, 'offset': 950}"
      ]
     },
     "execution_count": 145,
     "metadata": {},
     "output_type": "execute_result"
    }
   ],
   "source": [
    "url_params"
   ]
  },
  {
   "cell_type": "markdown",
   "metadata": {},
   "source": [
    "This code may take up to a few minutes to run.\n",
    "\n",
    "If you get an error trying to get the response body in JSON format, try adding `time.sleep(1)` right after the `requests.get` line, so your code will sleep for 1 second between each API call."
   ]
  },
  {
   "cell_type": "markdown",
   "metadata": {},
   "source": [
    "## 3. Perform Exploratory Analysis\n",
    "\n",
    "Take the businesses from the previous question and do an initial exploratory analysis. We have provided some plots for you to interpret:"
   ]
  },
  {
   "cell_type": "code",
   "execution_count": 146,
   "metadata": {},
   "outputs": [
    {
     "data": {
      "image/png": "[encoded data removed]",
      "text/plain": [
       "<Figure size 1152x360 with 3 Axes>"
      ]
     },
     "metadata": {
      "needs_background": "light"
     },
     "output_type": "display_data"
    }
   ],
   "source": [
    "# Run this cell without changes\n",
    "from collections import Counter\n",
    "import matplotlib.pyplot as plt\n",
    "%matplotlib inline\n",
    "\n",
    "fig, (ax1, ax2, ax3) = plt.subplots(ncols=3, figsize=(16, 5))\n",
    "\n",
    "# Plot distribution of number of reviews\n",
    "all_review_counts = [x[\"review_count\"] for x in full_dataset]\n",
    "ax1.hist(all_review_counts)\n",
    "ax1.set_title(\"Review Count Distribution\")\n",
    "ax1.set_xlabel(\"Number of Reviews\")\n",
    "ax1.set_ylabel(\"Number of Businesses\")\n",
    "\n",
    "# Plot rating distribution\n",
    "all_ratings = [x[\"rating\"] for x in full_dataset]\n",
    "rating_counter = Counter(all_ratings)\n",
    "rating_keys = sorted(rating_counter.keys())\n",
    "ax2.bar(rating_keys, [rating_counter[key] for key in rating_keys])\n",
    "ax2.set_title(\"Rating Distribution\")\n",
    "ax2.set_xlabel(\"Rating\")\n",
    "ax2.set_ylabel(\"Number of Businesses\")\n",
    "\n",
    "# Plot price distribution\n",
    "all_prices = [x[\"price\"].replace(\"$\", r\"\\$\") for x in full_dataset]\n",
    "price_counter = Counter(all_prices)\n",
    "price_keys = sorted(price_counter.keys())\n",
    "ax3.bar(price_keys, [price_counter[key] for key in price_keys])\n",
    "ax3.set_title(\"Price Distribution\")\n",
    "ax3.set_xlabel(\"Price Category\")\n",
    "ax3.set_ylabel(\"Number of Businesses\");"
   ]
  },
  {
   "cell_type": "markdown",
   "metadata": {},
   "source": [
    "Describe the distributions displayed above and interpret them in the context of your query. (Your answer may differ from the solution branch depending on your query.)"
   ]
  },
  {
   "cell_type": "code",
   "execution_count": null,
   "metadata": {},
   "outputs": [],
   "source": [
    "# Replace None with appropriate text\n",
    "\"\"\"\n",
    "The ratings distribution is fairly centered around ~4.\n",
    "The price distribution skews lower (mode $$) with few higher-priced pizza options ($$$$).\n",
    "The review count distribution evidences most businesses have few reviews. \n",
    "\"\"\""
   ]
  },
  {
   "cell_type": "markdown",
   "metadata": {},
   "source": [
    "In the cell below, we also plot the rating distributions by price. In this setup, a price of one dollar sign is \"lower price\" and everything else is \"higher price\"."
   ]
  },
  {
   "cell_type": "code",
   "execution_count": 147,
   "metadata": {},
   "outputs": [
    {
     "data": {
      "image/png": "[encoded data removed]",
      "text/plain": [
       "<Figure size 432x288 with 1 Axes>"
      ]
     },
     "metadata": {
      "needs_background": "light"
     },
     "output_type": "display_data"
    }
   ],
   "source": [
    "# Run this cell without changes\n",
    "\n",
    "higher_price = []\n",
    "lower_price = []\n",
    "for row in full_dataset:\n",
    "    if row[\"price\"] == \"$\":\n",
    "        lower_price.append(row[\"rating\"])\n",
    "    else:\n",
    "        higher_price.append(row[\"rating\"])\n",
    "        \n",
    "fig, ax = plt.subplots()\n",
    "\n",
    "ax.hist([higher_price, lower_price], label=[\"higher price\", \"lower price\"], density=True)\n",
    "\n",
    "ax.legend();"
   ]
  },
  {
   "cell_type": "markdown",
   "metadata": {},
   "source": [
    "Is a higher price associated with a higher rating? (No need for any additional math/statistics, just interpret what you see in the plot.)"
   ]
  },
  {
   "cell_type": "code",
   "execution_count": null,
   "metadata": {},
   "outputs": [],
   "source": [
    "# Replace None with appropriate text\n",
    "\"\"\"\n",
    "Yes, the blue bars being higher than the orange bars for 4+ ratings suggest higher price is associated with higher rating. \n",
    "\"\"\""
   ]
  },
  {
   "cell_type": "markdown",
   "metadata": {},
   "source": [
    "Finally, let's look at ratings vs. review counts:"
   ]
  },
  {
   "cell_type": "code",
   "execution_count": 148,
   "metadata": {},
   "outputs": [
    {
     "data": {
      "image/png": "[encoded data removed]",
      "text/plain": [
       "<Figure size 1152x360 with 1 Axes>"
      ]
     },
     "metadata": {
      "needs_background": "light"
     },
     "output_type": "display_data"
    }
   ],
   "source": [
    "# Run this cell without changes\n",
    "fig, ax = plt.subplots(figsize=(16,5))\n",
    "\n",
    "ax.scatter(all_review_counts, all_ratings, alpha=0.2)\n",
    "ax.set_xlabel(\"Number of Reviews\")\n",
    "ax.set_ylabel(\"Rating\")\n",
    "# \"zoom in\" to a subset of review counts\n",
    "ax.set_xlim(left=0, right=1000);"
   ]
  },
  {
   "cell_type": "markdown",
   "metadata": {},
   "source": [
    "Is a higher number of reviews associated with a higher rating?"
   ]
  },
  {
   "cell_type": "code",
   "execution_count": null,
   "metadata": {},
   "outputs": [],
   "source": [
    "# Replace None with appropriate text\n",
    "\"\"\"\n",
    "It does seem that the buckets with the highest number of reviews (3.5,4.0,4.5) skew higher (4.0,4.5).\n",
    "But the difference between the 4.0/4.5 and 3.5 buckets isn't extremely clear.\n",
    "And the long ends of 2.5/3.0 v 5.0 are both very sparse. \n",
    "\"\"\""
   ]
  },
  {
   "cell_type": "markdown",
   "metadata": {},
   "source": [
    "## 4. Create a Folium Map\n",
    "\n",
    "Make a map using Folium of the businesses you retrieved. Be sure to also add popups to the markers giving some basic information such as name, rating and price.\n",
    "\n",
    "You can center the map around the latitude and longitude of the first item in `full_dataset`."
   ]
  },
  {
   "cell_type": "code",
   "execution_count": 149,
   "metadata": {},
   "outputs": [
    {
     "data": {
      "text/html": [
       "<div style=\"width:100%;\"><div style=\"position:relative;width:100%;height:0;padding-bottom:60%;\"><span style=\"color:#565656\">Make this Notebook Trusted to load map: File -> Trust Notebook</span><iframe src=\"about:blank\" style=\"position:absolute;width:100%;height:100%;left:0;top:0;border:none !important;\" data-html=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 onload=\"this.contentDocument.open();this.contentDocument.write(atob(this.getAttribute('data-html')));this.contentDocument.close();\" allowfullscreen webkitallowfullscreen mozallowfullscreen></iframe></div></div>"
      ],
      "text/plain": [
       "<folium.folium.Map at 0x1e04fcfefd0>"
      ]
     },
     "execution_count": 149,
     "metadata": {},
     "output_type": "execute_result"
    }
   ],
   "source": [
    "# Replace None with appropriate code\n",
    "\n",
    "# Import the library\n",
    "import folium\n",
    "\n",
    "# Set up center latitude and longitude\n",
    "center_lat = full_dataset[0][\"latitude\"]\n",
    "center_long = full_dataset[0][\"longitude\"]\n",
    "\n",
    "# Initialize map with center lat and long\n",
    "yelp_map = folium.Map([center_lat, center_long], zoom_start=12)\n",
    "\n",
    "# Adjust this limit to see more or fewer businesses\n",
    "limit=100\n",
    "\n",
    "for business in full_dataset[:limit]:\n",
    "    # Extract information about business\n",
    "    lat = business[\"latitude\"]\n",
    "    long = business[\"longitude\"]\n",
    "    name = business[\"name\"]\n",
    "    rating = business[\"rating\"]\n",
    "    price = business[\"price\"]\n",
    "    details = \"{}\\nPrice: {} Rating:{}\".format(name,price,rating)\n",
    "    \n",
    "    # Create popup with relevant details\n",
    "    popup = folium.Popup(details)\n",
    "    \n",
    "    # Create marker with relevant lat/long and popup\n",
    "    marker = folium.Marker([lat, long], popup=popup)\n",
    "    \n",
    "    marker.add_to(yelp_map)\n",
    "    \n",
    "yelp_map"
   ]
  },
  {
   "cell_type": "markdown",
   "metadata": {},
   "source": [
    "## Summary\n",
    "\n",
    "Nice work! In this lab, you've made multiple API calls to Yelp in order to paginate through a results set, performing some basic exploratory analysis and then creating a nice interactive map to display the results using Folium! Well done!"
   ]
  }
 ],
 "metadata": {
  "kernelspec": {
   "display_name": "Python 3",
   "language": "python",
   "name": "python3"
  },
  "language_info": {
   "codemirror_mode": {
    "name": "ipython",
    "version": 3
   },
   "file_extension": ".py",
   "mimetype": "text/x-python",
   "name": "python",
   "nbconvert_exporter": "python",
   "pygments_lexer": "ipython3",
   "version": "3.8.5"
  },
  "toc": {
   "base_numbering": 1,
   "nav_menu": {},
   "number_sections": true,
   "sideBar": true,
   "skip_h1_title": false,
   "title_cell": "Table of Contents",
   "title_sidebar": "Contents",
   "toc_cell": false,
   "toc_position": {},
   "toc_section_display": true,
   "toc_window_display": false
  }
 },
 "nbformat": 4,
 "nbformat_minor": 2
}
